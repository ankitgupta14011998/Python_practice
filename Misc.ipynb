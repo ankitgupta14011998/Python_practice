{
 "cells": [
  {
   "cell_type": "markdown",
   "id": "818bd491-6de9-4ff5-92c6-9eec387469ab",
   "metadata": {},
   "source": [
    "# What is __name__ == '__main__'"
   ]
  },
  {
   "cell_type": "code",
   "execution_count": 1,
   "id": "56d102ec-4d0c-42d5-95eb-2468a3afaacf",
   "metadata": {},
   "outputs": [
    {
     "name": "stdout",
     "output_type": "stream",
     "text": [
      "__main__\n"
     ]
    }
   ],
   "source": [
    "\"\"\" __name__ == '__main__' \"\"\"\n",
    "\n",
    "#this line basically tells that whether the module that we are running is from the main file or imported module\n",
    "\n",
    "def main():\n",
    "    print(__name__)\n",
    "\n",
    "if __name__ == '__main__':\n",
    "    main()\n",
    "\n",
    "# since we have ran the same module in which it was created , therefore the __name__ == __main__\n",
    "#if we try to import this module in another module and then ran that module, it would print Misc and not __main__.\n"
   ]
  },
  {
   "cell_type": "code",
   "execution_count": null,
   "id": "3f43e249-4737-4286-84aa-61fe034e70d6",
   "metadata": {},
   "outputs": [],
   "source": [
    "# range and xrange\n",
    "\n",
    "# range gives the list, holds data in memory\n",
    "# xrange gives generator, doesn't hold in memory until queried explicitly\n",
    "\n",
    "# a = [i for i in range(1,11)]\n",
    "# b = [i for i in xrange(1,11)]\n",
    "# print(a)\n",
    "# print(b)\n",
    "#xrange was removed in later python versions"
   ]
  },
  {
   "cell_type": "code",
   "execution_count": 7,
   "id": "7a3587b6-8ad4-4888-b316-52266702713a",
   "metadata": {},
   "outputs": [],
   "source": [
    "#dict.items() and dict.iteritems()\n",
    "\n",
    "# dict.items() gives list of all the key value pairs at once and keeps in memory\n",
    "# dict.iteritems() gives a generator and doesn't holds anything in memory until explicitly asked to do so"
   ]
  },
  {
   "cell_type": "code",
   "execution_count": 12,
   "id": "e75fbbaf-8410-4b76-afb0-7ce7a1ab0bf4",
   "metadata": {},
   "outputs": [
    {
     "name": "stdout",
     "output_type": "stream",
     "text": [
      "True\n",
      "False\n",
      "l1: 1346689099264 l2: 1346667417984\n"
     ]
    }
   ],
   "source": [
    "# == vs is\n",
    "\n",
    "#\"==\" checks equality\n",
    "# \"is\" checks identity\n",
    "\n",
    "l1 = [1,2,3,4,5]\n",
    "l2 = [1,2,3,4,5]\n",
    "\n",
    "print(l1 == l2) # checks contents, if same returns true\n",
    "print(l1 is l2) # checks memory id, if same return true\n",
    "\n",
    "print('l1:',id(l1),'l2:',id(l2))\n",
    "\n"
   ]
  },
  {
   "cell_type": "code",
   "execution_count": 39,
   "id": "3f3197b5-d0c7-449c-9eff-8f77446ac44d",
   "metadata": {},
   "outputs": [
    {
     "name": "stdout",
     "output_type": "stream",
     "text": [
      "[('Corey', 'Schafer', 50000), ('Mary', 'Schafer', 50000)]\n"
     ]
    }
   ],
   "source": [
    "# creating a database(using sqlite)\n",
    "\n",
    "import sqlite3\n",
    "\n",
    "#conn = sqlite3.connect(':memory:') # this will store database details in memory\n",
    "conn =sqlite3.connect('employee.db') # this will store database details in file\n",
    "\n",
    "cur = conn.cursor() # to execute the queries\n",
    "\n",
    "# cur.execute(\"CREATE TABLE employees(first text,last text, pay integer)\")        \n",
    "\n",
    "# cur.execute(\"INSERT INTO employees VALUES ('Mary', 'Schafer', 50000)\")\n",
    "# conn.commit()\n",
    "\n",
    "cur.execute(\"SELECT * FROM employees WHERE last='Schafer'\")\n",
    "\n",
    "#print(cur.fetchone()) # returns next row in output, if no rows returns None\n",
    "# cur.fetchmany(5) # returns number of specified rows as list\n",
    "print(cur.fetchall()) # fetch all remaining no. of rows as list\n",
    "conn.commit() # to persist data in database\n",
    "conn.close() # close the connection"
   ]
  },
  {
   "cell_type": "code",
   "execution_count": 48,
   "id": "ff88e846-0b2a-4529-b9fc-54cd08cfe2ed",
   "metadata": {},
   "outputs": [
    {
     "name": "stdout",
     "output_type": "stream",
     "text": [
      "John\n",
      "Doe\n",
      "800000\n",
      "[('Corey', 'Schafer', 50000), ('Mary', 'Schafer', 50000)]\n",
      "[('John', 'Doe', 800000), ('John', 'Doe', 800000), ('Jane', 'Doe', 900000)]\n"
     ]
    }
   ],
   "source": [
    "import sqlite3\n",
    "from employee import Employee\n",
    "\n",
    "conn =sqlite3.connect('employee.db')\n",
    "\n",
    "cur = conn.cursor()\n",
    "\n",
    "# cur.execute(\"CREATE TABLE employees(first text,last text, pay integer)\")        \n",
    "\n",
    "emp_1 = Employee('John', 'Doe', 800000)\n",
    "emp_2 = Employee('Jane', 'Doe', 900000)\n",
    "\n",
    "print(emp_1.first)\n",
    "print(emp_1.last)\n",
    "print(emp_1.pay)\n",
    "\n",
    "# cur.execute(\"INSERT INTO employees VALUES (f'{self.first}', '{self.last}', {self.pay})\")# we can string formatting to insert the employee details but not preferrable as it is prone to sql injection\n",
    "# either of the following 2 methods can be used to insert the records\n",
    "# cur.execute(\"INSERT INTO employees VALUES (?, ?, ?)\", (emp_1.first, emp_1.last, emp_1.pay))\n",
    "# conn.commit()\n",
    "\n",
    "# cur.execute(\"INSERT INTO employees VALUES (:first, :last, :pay)\", {'first': emp_2.first, 'last': emp_2.last, 'pay': emp_2.pay})\n",
    "# conn.commit()\n",
    "\n",
    "cur.execute(\"SELECT * FROM employees where last=?\", ('Schafer',))\n",
    "print(cur.fetchall()) \n",
    "cur.execute(\"SELECT * FROM employees where last=:last\", {'last': 'Doe'})\n",
    "\n",
    "#print(cur.fetchone()) # returns next row in output, if no rows returns None\n",
    "# cur.fetchmany(5) # returns number of specified rows as list\n",
    "print(cur.fetchall()) # fetch all remaining no. of rows as list\n",
    "conn.commit() # to persist data in database\n",
    "conn.close() # close the connection"
   ]
  },
  {
   "cell_type": "code",
   "execution_count": 51,
   "id": "a6227e03-41d0-4484-a557-4df03e2e805e",
   "metadata": {},
   "outputs": [
    {
     "name": "stdout",
     "output_type": "stream",
     "text": [
      "[('John', 'Doe', 800000), ('Jane', 'Doe', 900000)]\n",
      "[('Jane', 'Doe', 95000)]\n"
     ]
    }
   ],
   "source": [
    "import sqlite3\n",
    "from employee import Employee\n",
    "\n",
    "conn =sqlite3.connect(':memory:')\n",
    "\n",
    "cur = conn.cursor()\n",
    "\n",
    "cur.execute(\"CREATE TABLE employees(first text,last text, pay integer)\")  \n",
    "\n",
    "def insert_emp(emp):\n",
    "    with conn: # this is called context manager, it closes the conn automatically when it comes outside with\n",
    "        cur.execute(\"INSERT INTO employees VALUES (:first, :last, :pay)\", {'first': emp.first, 'last': emp.last, 'pay': emp.pay})\n",
    "\n",
    "def get_emps_by_name(lastname): # since select statements doesn't need to be commited hence context manager not needed\n",
    "        cur.execute(\"SELECT * FROM employees where last=:last\", {'last': lastname})\n",
    "        return cur.fetchall()\n",
    "\n",
    "def update_pay(emp, pay):\n",
    "    with conn:\n",
    "        cur.execute(\"UPDATE employees SET pay= :pay WHERE first = :first AND last = :last\",\n",
    "                    {'first': emp.first, 'last': emp.last, 'pay': pay})\n",
    "        \n",
    "def remove_emp(emp):\n",
    "    with conn:\n",
    "        cur.execute(\"DELETE FROM employees WHERE first = :first AND last = :last\",\n",
    "                    {'first': emp.first, 'last': emp.last})\n",
    "\n",
    "emp_1 = Employee('John', 'Doe', 800000)\n",
    "emp_2 = Employee('Jane', 'Doe', 900000)\n",
    "\n",
    "insert_emp(emp_1)\n",
    "insert_emp(emp_2)\n",
    "\n",
    "emps = get_emps_by_name('Doe')\n",
    "print(emps)\n",
    "\n",
    "update_pay(emp_2, 95000)\n",
    "remove_emp(emp_1)\n",
    "\n",
    "emps = get_emps_by_name('Doe')\n",
    "print(emps)\n",
    "\n",
    "conn.close()"
   ]
  },
  {
   "cell_type": "code",
   "execution_count": null,
   "id": "80ef5be0-3f8e-4a66-b662-3e0674ece9dd",
   "metadata": {},
   "outputs": [],
   "source": []
  },
  {
   "cell_type": "code",
   "execution_count": null,
   "id": "52ae75ec-253f-4b13-b528-ce3be8fad5da",
   "metadata": {},
   "outputs": [],
   "source": []
  }
 ],
 "metadata": {
  "kernelspec": {
   "display_name": "Python 3 (ipykernel)",
   "language": "python",
   "name": "python3"
  },
  "language_info": {
   "codemirror_mode": {
    "name": "ipython",
    "version": 3
   },
   "file_extension": ".py",
   "mimetype": "text/x-python",
   "name": "python",
   "nbconvert_exporter": "python",
   "pygments_lexer": "ipython3",
   "version": "3.9.5"
  }
 },
 "nbformat": 4,
 "nbformat_minor": 5
}
