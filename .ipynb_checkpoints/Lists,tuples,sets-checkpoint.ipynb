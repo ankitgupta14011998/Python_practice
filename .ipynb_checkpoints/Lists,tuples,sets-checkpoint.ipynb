{
 "cells": [
  {
   "cell_type": "markdown",
   "id": "766429a3-16fe-4aa5-a091-b037f0519dd7",
   "metadata": {},
   "source": [
    "# Lists, Tuples, Sets"
   ]
  },
  {
   "cell_type": "code",
   "execution_count": 32,
   "id": "e292e35a-fab3-42a4-bbbd-5e31866442da",
   "metadata": {},
   "outputs": [
    {
     "name": "stdout",
     "output_type": "stream",
     "text": [
      "['History', 'Math', 'Physics', 'CompSci']\n",
      "4\n",
      "History\n",
      "CompSci\n",
      "['History', 'Math']\n",
      "['History', 'Math']\n",
      "['Physics', 'CompSci']\n",
      "['History', 'Math', 'Physics', 'CompSci']\n",
      "['Math', 'Physics']\n",
      "['CompSci', 'Physics']\n",
      "['CompSci', 'Physics']\n"
     ]
    }
   ],
   "source": [
    "courses = ['History','Math','Physics','CompSci'] ## list\n",
    "print(courses) \n",
    "print(len(courses)) # length of list\n",
    "print(courses[0]) # to access values using index\n",
    "print(courses[-1]) # negative index gives elements in reverse(starts from 1)\n",
    "\n",
    "## slicing works same as in string\n",
    "print(courses[0:2])\n",
    "print(courses[:2])\n",
    "print(courses[2:])\n",
    "print(courses[:])\n",
    "print(courses[-3:-1])\n",
    "print(courses[-1:-3:-1]) ## third parameter is the step, negative means it will read in reverse\n",
    "print(courses[3:1:-1]) ## same as above"
   ]
  },
  {
   "cell_type": "code",
   "execution_count": 33,
   "id": "58a4afe2-08be-40ff-a641-6efe8fcaf14e",
   "metadata": {},
   "outputs": [
    {
     "name": "stdout",
     "output_type": "stream",
     "text": [
      "['History', 'Math', 'Physics', 'CompSci', 'Art']\n",
      "['History', 'Art', 'Math', 'Physics', 'CompSci', 'Art']\n",
      "['History', 'Art', 'Math', 'Physics', 'CompSci', 'Art', 'Humanity', 'Politics']\n",
      "['History', 'Math', 'Physics', 'CompSci', 'Art', 'Humanity', 'Politics']\n",
      "['History', 'Math', 'Physics', 'CompSci', 'Art', 'Humanity'] Politics\n",
      "['Humanity', 'Art', 'CompSci', 'Physics', 'Math', 'History']\n",
      "['Art', 'CompSci', 'History', 'Humanity', 'Math', 'Physics']\n",
      "['Physics', 'Math', 'Humanity', 'History', 'CompSci', 'Art']\n",
      "['Art', 'CompSci', 'History', 'Humanity', 'Math', 'Physics']\n",
      "-1\n",
      "Art\n",
      "9\n",
      "16.3\n"
     ]
    }
   ],
   "source": [
    "## functions in list\n",
    "# append, add item to end of the list\n",
    "courses.append('Art')\n",
    "print(courses)\n",
    "\n",
    "# insert, takes 2 parameter position and the item\n",
    "courses.insert(1,'Art')\n",
    "print(courses)\n",
    "\n",
    "# extend, adds another list to a list\n",
    "courses_2 = ['Humanity','Politics']\n",
    "courses.extend(courses_2)\n",
    "print(courses)\n",
    "\n",
    "# remove, removes 1st occurences of the provided value\n",
    "courses.remove('Art')\n",
    "print(courses)\n",
    "\n",
    "# pop, removes the last element from list\n",
    "popped = courses.pop() ## pop returns a value that is deleted\n",
    "print(courses,popped)\n",
    "\n",
    "# reverse, to reverse the list elements\n",
    "courses.reverse()\n",
    "print(courses)\n",
    "\n",
    "# sort, sorts the list in alphabetically/ascending order\n",
    "courses.sort()\n",
    "print(courses)\n",
    "\n",
    "# sort(reverse=True), to sort the result in reverse order\n",
    "courses.sort(reverse=True)\n",
    "print(courses)\n",
    "\n",
    "## sorted(list), sort the list but not inplace\n",
    "print(sorted(courses))\n",
    "\n",
    "# min(list) get min/alphabetically lowest from the list (works with numerical values as well as strings, if diff datatype is found then it gives error)\n",
    "nums = [1,5,9,-1,0,2.3]\n",
    "print(min(nums))\n",
    "print(min(courses))\n",
    "# other similar functions\n",
    "print(max(nums))\n",
    "print(sum(nums))"
   ]
  },
  {
   "cell_type": "code",
   "execution_count": 40,
   "id": "aa203111-35d7-416c-922d-2536d1db68d4",
   "metadata": {},
   "outputs": [
    {
     "name": "stdout",
     "output_type": "stream",
     "text": [
      "3\n",
      "False\n"
     ]
    }
   ],
   "source": [
    "courses = ['History','Math','Physics','CompSci']\n",
    "\n",
    "# to find the index of 1st occurence of the object in the list, if value not there returns error\n",
    "print(courses.index('CompSci'))\n",
    "\n",
    "# to check if object is present\n",
    "print('Art' in courses)\n"
   ]
  },
  {
   "cell_type": "code",
   "execution_count": 41,
   "id": "09285de1-1873-416e-a50d-b82e15f5886a",
   "metadata": {},
   "outputs": [
    {
     "name": "stdout",
     "output_type": "stream",
     "text": [
      "History\n",
      "Math\n",
      "Physics\n",
      "CompSci\n",
      "6 History\n",
      "6 Math\n",
      "6 Physics\n",
      "6 CompSci\n",
      "\n",
      "2 History\n",
      "3 Math\n",
      "4 Physics\n",
      "5 CompSci\n"
     ]
    }
   ],
   "source": [
    "## looping lists\n",
    "\n",
    "for course in courses:\n",
    "    print(course)\n",
    "\n",
    "for ix,course in enumerate(courses): # enumerate will give 2 values, index and the item\n",
    "    print(index,course)\n",
    "print()\n",
    "for index,course in enumerate(courses, start=2): # we can set the starting index in list\n",
    "    print(index,course)"
   ]
  },
  {
   "cell_type": "code",
   "execution_count": 46,
   "id": "2e1fe4a0-4e41-4cfc-b37c-5b84c855943f",
   "metadata": {},
   "outputs": [
    {
     "name": "stdout",
     "output_type": "stream",
     "text": [
      "History, Math, Physics, CompSci\n",
      "['History', 'Math', 'Physics', 'CompSci']\n"
     ]
    }
   ],
   "source": [
    "##string join and split\n",
    "\n",
    "course_str =', '.join(courses) # join the list element with separator provided and returns string\n",
    "print(course_str)\n",
    "\n",
    "new_list = course_str.split(', ') # to split string on the separator and returns the list\n",
    "print(new_list)"
   ]
  },
  {
   "cell_type": "code",
   "execution_count": 47,
   "id": "20358a2b-f1f4-4163-a64c-68bff18b9906",
   "metadata": {},
   "outputs": [
    {
     "name": "stdout",
     "output_type": "stream",
     "text": [
      "['History', 'Math', 'Physics', 'CompSci']\n",
      "['History', 'Math', 'Physics', 'CompSci']\n",
      "['Art', 'Math', 'Physics', 'CompSci']\n",
      "['Art', 'Math', 'Physics', 'CompSci']\n",
      "('History', 'Math', 'Physics', 'CompSci')\n",
      "('History', 'Math', 'Physics', 'CompSci')\n"
     ]
    },
    {
     "ename": "TypeError",
     "evalue": "'tuple' object does not support item assignment",
     "output_type": "error",
     "traceback": [
      "\u001b[1;31m---------------------------------------------------------------------------\u001b[0m",
      "\u001b[1;31mTypeError\u001b[0m                                 Traceback (most recent call last)",
      "Cell \u001b[1;32mIn[47], line 20\u001b[0m\n\u001b[0;32m     17\u001b[0m \u001b[38;5;28mprint\u001b[39m(list_1)\n\u001b[0;32m     18\u001b[0m \u001b[38;5;28mprint\u001b[39m(list_2)\n\u001b[1;32m---> 20\u001b[0m \u001b[43mlist_1\u001b[49m\u001b[43m[\u001b[49m\u001b[38;5;241;43m0\u001b[39;49m\u001b[43m]\u001b[49m \u001b[38;5;241m=\u001b[39m \u001b[38;5;124m'\u001b[39m\u001b[38;5;124mArt\u001b[39m\u001b[38;5;124m'\u001b[39m\n\u001b[0;32m     22\u001b[0m \u001b[38;5;28mprint\u001b[39m(list_1)\n\u001b[0;32m     23\u001b[0m \u001b[38;5;28mprint\u001b[39m(list_2)\n",
      "\u001b[1;31mTypeError\u001b[0m: 'tuple' object does not support item assignment"
     ]
    }
   ],
   "source": [
    "## list -> mutable ,tuples -> Immutable\n",
    "\n",
    "list_1 = ['History','Math','Physics','CompSci']\n",
    "list_2 = list_1\n",
    "\n",
    "print(list_1)\n",
    "print(list_2)\n",
    "\n",
    "list_1[0] = 'Art'\n",
    "\n",
    "print(list_1) # changes in list_1 made changes in list_2 as well because both are referencing to same memory area.\n",
    "print(list_2)\n",
    "\n",
    "list_1 = ('History','Math','Physics','CompSci')\n",
    "list_2 = list_1\n",
    "\n",
    "print(list_1)\n",
    "print(list_2)\n",
    "\n",
    "list_1[0] = 'Art' # this returns error as we cannot modify items in tuple\n",
    "\n",
    "print(list_1)\n",
    "print(list_2)"
   ]
  },
  {
   "cell_type": "code",
   "execution_count": 55,
   "id": "c6208a87-e136-4507-80ad-bab1f3f7b8d7",
   "metadata": {},
   "outputs": [
    {
     "name": "stdout",
     "output_type": "stream",
     "text": [
      "{'CompSci', 'Physics', 'History', 'Math'}\n",
      "{'History', 'Math'}\n",
      "{'CompSci', 'Physics'}\n",
      "{'Design', 'Art', 'Physics', 'History', 'Math', 'CompSci'}\n"
     ]
    }
   ],
   "source": [
    "## sets -> values are unordered and have no duplicates\n",
    "\n",
    "cs_courses = {'History','Math','Physics','CompSci','Math'}\n",
    "print(cs_courses) ## we can observe that the order we got in output is different than the order in the input.\n",
    "## also it removed the duplicate Math\n",
    "\n",
    "cs_courses = {'History','Math','Physics','CompSci'}\n",
    "art_courses = {'History','Math','Art','Design'}\n",
    "\n",
    "# intersection\n",
    "print(cs_courses.intersection(art_courses)) ## gives common elements\n",
    "\n",
    "#difference\n",
    "print(cs_courses.difference(art_courses)) ## present in cs_courses but not in art_courses\n",
    "\n",
    "# union\n",
    "print(cs_courses.union(art_courses)) ## present in both, don't give duplicates\n",
    "\n",
    "\n"
   ]
  },
  {
   "cell_type": "code",
   "execution_count": 57,
   "id": "33beabc2-9c92-4a68-95e7-3c7c374fb014",
   "metadata": {},
   "outputs": [
    {
     "name": "stdout",
     "output_type": "stream",
     "text": [
      "<class 'list'> <class 'list'>\n",
      "<class 'tuple'> <class 'tuple'>\n",
      "<class 'dict'> <class 'set'>\n"
     ]
    }
   ],
   "source": [
    "##list, tuple and set declaration\n",
    "\n",
    "empty_list1 = []\n",
    "empty_list2 = list()\n",
    "print(type(empty_list1),type(empty_list2))\n",
    "\n",
    "empty_tuple1 = ()\n",
    "empty_tuple2 = tuple()\n",
    "print(type(empty_tuple1),type(empty_tuple2))\n",
    "\n",
    "empty_set1 = {} # this will create a dictionary instead of set\n",
    "empty_set2 = set()\n",
    "print(type(empty_set1),type(empty_set2))\n"
   ]
  },
  {
   "cell_type": "code",
   "execution_count": 65,
   "id": "9c47973b-03a9-4dce-850e-0a39a6f13237",
   "metadata": {},
   "outputs": [
    {
     "name": "stdout",
     "output_type": "stream",
     "text": [
      "[1, 2, 3, 4, 5, 6, 7]\n",
      "[1, 2, 3, 4, 5, 6, 7, 8, 9]\n",
      "[0, 1, 2, 3, 4, 5, 6, 7, 8]\n",
      "[0, 1, 2, 3, 4, 5, 6, 7, 8]\n",
      "[0, 1, 2, 3, 4, 5, 6, 7, 8, 9]\n",
      "[2, 4, 6, 8]\n",
      "[]\n",
      "[9, 8, 7, 6, 5, 4, 3]\n",
      "[9, 8, 7, 6, 5, 4, 3, 2, 1, 0]\n"
     ]
    }
   ],
   "source": [
    "## slicing\n",
    "\n",
    "my_list = [0,1,2,3,4,5,6,7,8,9]\n",
    "print(my_list[1:-2]) ## negative and positive index can be combined together\n",
    "print(my_list[1:])\n",
    "print(my_list[:9])\n",
    "print(my_list[:-1])\n",
    "print(my_list[:])\n",
    "print(my_list[2:-1:2]) ## start:end:step, default step is 1\n",
    "print(my_list[2:-1:-1]) ## this gives empty list because it goes left of 2nd index which doesn't have any value\n",
    "print(my_list[-1:2:-1])\n",
    "print(my_list[::-1]) ## to get full list reversed"
   ]
  },
  {
   "cell_type": "code",
   "execution_count": 80,
   "id": "f61583cf-d904-44a9-b191-ed88acc97165",
   "metadata": {},
   "outputs": [
    {
     "name": "stdout",
     "output_type": "stream",
     "text": [
      "[1, 2, 3, 4, 5, 6, 7, 8, 9, 10]\n",
      "[1, 2, 3, 4, 5, 6, 7, 8, 9, 10]\n",
      "[1, 4, 9, 16, 25, 36, 49, 64, 81, 100]\n",
      "[1, 4, 9, 16, 25, 36, 49, 64, 81, 100]\n",
      "<map object at 0x00000228903A2760>\n",
      "[2, 4, 6, 8, 10]\n",
      "[2, 4, 6, 8, 10]\n",
      "<filter object at 0x00000228903A2040>\n",
      "[('a', 0), ('a', 1), ('a', 2), ('a', 3), ('b', 0), ('b', 1), ('b', 2), ('b', 3), ('c', 0), ('c', 1), ('c', 2), ('c', 3), ('d', 0), ('d', 1), ('d', 2), ('d', 3)]\n",
      "[('a', 0), ('a', 1), ('a', 2), ('a', 3), ('b', 0), ('b', 1), ('b', 2), ('b', 3), ('c', 0), ('c', 1), ('c', 2), ('c', 3), ('d', 0), ('d', 1), ('d', 2), ('d', 3)]\n"
     ]
    }
   ],
   "source": [
    "## list comprehension \n",
    "\n",
    "nums = [1,2,3,4,5,6,7,8,9,10]\n",
    "\n",
    "my_list = []\n",
    "for n in nums: # copying contents of list using for loop\n",
    "    my_list.append(n)\n",
    "print(my_list)\n",
    "\n",
    "# using list comprehension example 1\n",
    "\n",
    "my_list = [n for n in nums]\n",
    "print(my_list)\n",
    "\n",
    "my_list = []\n",
    "for n in nums: # getting squares of contents of list using for loop\n",
    "    my_list.append(n*n)\n",
    "print(my_list)\n",
    "\n",
    "#list comprehension example 1\n",
    "my_list  = [n*n for n in nums]\n",
    "print(my_list)\n",
    "\n",
    "#using map and lambda\n",
    "my_list = map(lambda n: n*n, nums)\n",
    "print(my_list)\n",
    "\n",
    "#list comprehension example 3\n",
    "my_list = []\n",
    "for n in nums: \n",
    "    if n%2==0:\n",
    "        my_list.append(n)\n",
    "print(my_list)\n",
    "\n",
    "my_list = [n for n in nums if n%2==0]\n",
    "print(my_list)\n",
    "\n",
    "#using filter and lambda\n",
    "\n",
    "my_list = filter(lambda n: n%2 == 0,nums)\n",
    "print(my_list)\n",
    "\n",
    "# list comprehension example 4\n",
    "my_list = []\n",
    "for letter in 'abcd':\n",
    "    for num in range(4):\n",
    "        my_list.append((letter,num))\n",
    "print(my_list)\n",
    "\n",
    "my_list = [(letter,num) for letter in 'abcd' for num in range(4)]\n",
    "print(my_list)"
   ]
  },
  {
   "cell_type": "code",
   "execution_count": 83,
   "id": "48c5b2a2-82e6-4698-8912-d9e0c6a54bdb",
   "metadata": {},
   "outputs": [
    {
     "name": "stdout",
     "output_type": "stream",
     "text": [
      "{1, 2, 3, 4, 5, 6, 7, 8, 9}\n",
      "{1, 2, 3, 4, 5, 6, 7, 8, 9}\n"
     ]
    }
   ],
   "source": [
    "# Set Comprehension\n",
    "\n",
    "nums = [1,1,2,1,3,4,3,4,5,5,6,7,8,7,9,9]\n",
    "\n",
    "my_set = set()\n",
    "for n in nums:\n",
    "    my_set.add(n)\n",
    "print(my_set)\n",
    "\n",
    "my_set = {n for n in nums}\n",
    "print(my_set)"
   ]
  },
  {
   "cell_type": "code",
   "execution_count": 90,
   "id": "57bacfdb-9e78-468c-be4e-bb26d111a7f8",
   "metadata": {},
   "outputs": [
    {
     "name": "stdout",
     "output_type": "stream",
     "text": [
      "<generator object gen_func at 0x00000228905EDE40>\n",
      "1\n",
      "4\n",
      "9\n",
      "16\n",
      "25\n",
      "36\n",
      "49\n",
      "64\n",
      "81\n",
      "100\n",
      "<generator object <genexpr> at 0x00000228905EDA50>\n",
      "1\n",
      "4\n",
      "9\n",
      "16\n",
      "25\n",
      "36\n",
      "49\n",
      "64\n",
      "81\n",
      "100\n"
     ]
    }
   ],
   "source": [
    "# Generator Expressions\n",
    "nums = [1,2,3,4,5,6,7,8,9,10]\n",
    "\n",
    "def gen_func(nums):\n",
    "    for n in nums:\n",
    "        yield n*n # used to convert regular python function to generator\n",
    "my_gen = gen_func(nums)\n",
    "print(my_gen)\n",
    "for i in my_gen:\n",
    "    print(i)\n",
    "\n",
    "my_gen = (n*n for n in nums) # use parantheses to define generators\n",
    "print(my_gen)\n",
    "for i in my_gen:\n",
    "    print(i)"
   ]
  },
  {
   "cell_type": "code",
   "execution_count": 103,
   "id": "c3d85ec0-86d1-4e1b-8b45-bb611ce933af",
   "metadata": {},
   "outputs": [
    {
     "name": "stdout",
     "output_type": "stream",
     "text": [
      "[1, 2, 3, 4, 5, 6, 7, 8, 9]\n",
      "[9, 1, 8, 2, 7, 3, 6, 4, 5]\n",
      "[1, 2, 3, 4, 5, 6, 7, 8, 9]\n",
      "[9, 8, 7, 6, 5, 4, 3, 2, 1]\n",
      "[9, 8, 7, 6, 5, 4, 3, 2, 1]\n",
      "[1, 2, 3, 4, 5, 6, 7, 8, 9]\n",
      "['age', 'job', 'name']\n",
      "[-6, -5, -4, 1, 2, 3]\n",
      "[1, 2, 3, -4, -5, -6]\n"
     ]
    }
   ],
   "source": [
    "li = [9,1,8,2,7,3,6,4,5]\n",
    "\n",
    "s_li = sorted(li) # doesn't sort inplace, returns new list\n",
    "print(s_li)\n",
    "print(li)\n",
    "\n",
    "li.sort() # sorts inplace and returns None\n",
    "print(li)\n",
    "\n",
    "s_li = sorted(li,reverse=True) # to print in reverse order\n",
    "li.sort(reverse=True)\n",
    "print(s_li)\n",
    "print(li)\n",
    "\n",
    "tup = (9,1,8,2,7,3,6,4,5)\n",
    "#tup.sort()  gives error\n",
    "s_tup = sorted(tup) # sorted the tuple but returned the list\n",
    "print(s_tup)\n",
    "\n",
    "di = {'name': 'Ankit', 'job': 'programming', 'age': 25}\n",
    "#di.sort() gives error\n",
    "s_di = sorted(di) # sorts the keys in dict and returns the list\n",
    "print(s_di)\n",
    "\n",
    "# sort based on absolute values\n",
    "\n",
    "li = [-6,-5,-4,1,2,3]\n",
    "s_li = sorted(li)\n",
    "print(s_li)\n",
    "s_li = sorted(li,key=abs) # the key helps to run the abs before sorting the values\n",
    "print(s_li)"
   ]
  },
  {
   "cell_type": "code",
   "execution_count": 113,
   "id": "3e241e41-6796-46fe-a712-741f53e263db",
   "metadata": {},
   "outputs": [
    {
     "name": "stdout",
     "output_type": "stream",
     "text": [
      "(Carl,37,$70000) \n",
      " (Sarah,29,$80000) \n",
      " (John,43,$90000)\n",
      "[(Carl,37,$70000), (John,43,$90000), (Sarah,29,$80000)]\n",
      "[(John,43,$90000), (Sarah,29,$80000), (Carl,37,$70000)]\n",
      "[(Sarah,29,$80000), (Carl,37,$70000), (John,43,$90000)]\n"
     ]
    }
   ],
   "source": [
    "class Employee():\n",
    "    def __init__(self, name, age, salary):\n",
    "        self.name = name\n",
    "        self.age = age\n",
    "        self.salary = salary\n",
    "\n",
    "    def __repr__(self): # __repr__ returns the formatted value for an object , similar to to_String in java\n",
    "        return '({},{},${})'.format(self.name, self.age, self.salary)\n",
    "\n",
    "from operator import attrgetter # this function return the attribute from the object\n",
    "e1 = Employee('Carl', 37, 70000)\n",
    "e2 = Employee('Sarah', 29, 80000)\n",
    "e3 = Employee('John', 43, 90000)\n",
    "\n",
    "print(e1,'\\n',e2,'\\n',e3)\n",
    "employees = [e1,e2,e3]\n",
    "\n",
    "def e_sort(emp):\n",
    "    return emp.name\n",
    "\n",
    "s_employees1 = sorted(employees, key = e_sort)\n",
    "s_employees2 = sorted(employees, key = lambda x: x.salary, reverse = True)\n",
    "s_employees3 = sorted(employees,key = attrgetter('age'))\n",
    "print(s_employees1)\n",
    "print(s_employees2)\n",
    "print(s_employees3)"
   ]
  },
  {
   "cell_type": "code",
   "execution_count": 112,
   "id": "340daa24-51ef-4c4c-97cb-10a29a097cfa",
   "metadata": {},
   "outputs": [
    {
     "name": "stdout",
     "output_type": "stream",
     "text": [
      "(Carl,37,$70000)\n"
     ]
    }
   ],
   "source": [
    "print(e1)"
   ]
  },
  {
   "cell_type": "code",
   "execution_count": 10,
   "id": "04b30a5a-af72-412b-872d-434ddae16705",
   "metadata": {},
   "outputs": [
    {
     "name": "stdout",
     "output_type": "stream",
     "text": [
      "[1, 4, 9, 16, 25]\n"
     ]
    }
   ],
   "source": [
    "# more on generators\n",
    "\n",
    "def square_numbers(nums):\n",
    "    result = []\n",
    "    for i in nums:\n",
    "        result.append(i*i)\n",
    "    return result\n",
    "\n",
    "import numpy as np\n",
    "my_nums = square_numbers(np.arange(1,6)) #[1,2,3,4,5])\n",
    "print(my_nums)\n"
   ]
  },
  {
   "cell_type": "code",
   "execution_count": 15,
   "id": "1b4b8f4d-afca-464d-b9bd-f357b95d2ef3",
   "metadata": {},
   "outputs": [
    {
     "name": "stdout",
     "output_type": "stream",
     "text": [
      "<generator object square_numbers at 0x00000208615C2B30>\n",
      "1\n",
      "4\n",
      "9\n",
      "16\n",
      "25\n"
     ]
    },
    {
     "ename": "StopIteration",
     "evalue": "",
     "output_type": "error",
     "traceback": [
      "\u001b[1;31m---------------------------------------------------------------------------\u001b[0m",
      "\u001b[1;31mStopIteration\u001b[0m                             Traceback (most recent call last)",
      "Cell \u001b[1;32mIn[15], line 14\u001b[0m\n\u001b[0;32m     12\u001b[0m \u001b[38;5;28mprint\u001b[39m(\u001b[38;5;28mnext\u001b[39m(my_nums))\n\u001b[0;32m     13\u001b[0m \u001b[38;5;28mprint\u001b[39m(\u001b[38;5;28mnext\u001b[39m(my_nums))\n\u001b[1;32m---> 14\u001b[0m \u001b[38;5;28mprint\u001b[39m(\u001b[38;5;28;43mnext\u001b[39;49m\u001b[43m(\u001b[49m\u001b[43mmy_nums\u001b[49m\u001b[43m)\u001b[49m) \u001b[38;5;66;03m# since no element to process it gives stopiteration error\u001b[39;00m\n\u001b[0;32m     16\u001b[0m my_nums \u001b[38;5;241m=\u001b[39m square_numbers(np\u001b[38;5;241m.\u001b[39marange(\u001b[38;5;241m1\u001b[39m,\u001b[38;5;241m6\u001b[39m))\n\u001b[0;32m     17\u001b[0m \u001b[38;5;28mprint\u001b[39m(num \u001b[38;5;28;01mfor\u001b[39;00m num \u001b[38;5;129;01min\u001b[39;00m nums)\n",
      "\u001b[1;31mStopIteration\u001b[0m: "
     ]
    }
   ],
   "source": [
    "# can modify above fucntion to create a generator\n",
    "\n",
    "def square_numbers(nums):\n",
    "    for i in nums:\n",
    "        yield(i*i) # yield function is used to create a generator out of a function\n",
    "        \n",
    "my_nums = square_numbers(np.arange(1,6))\n",
    "print(my_nums) # we get generator object, because it doesn't store all result in the memory but waits for us perform next operation to get next value in generator\n",
    "print(next(my_nums))\n",
    "print(next(my_nums))\n",
    "print(next(my_nums))\n",
    "print(next(my_nums))\n",
    "print(next(my_nums))\n",
    "print(next(my_nums)) # since no element to process it gives stopiteration error\n"
   ]
  },
  {
   "cell_type": "code",
   "execution_count": 19,
   "id": "2c2e4478-266a-4928-a0af-69dbcb0a9710",
   "metadata": {},
   "outputs": [
    {
     "name": "stdout",
     "output_type": "stream",
     "text": [
      "<generator object <genexpr> at 0x00000208615C2EB0>\n"
     ]
    }
   ],
   "source": [
    "my_nums = square_numbers(np.arange(1,6))\n",
    "print([num for num in my_nums]) # convert generator into list, but generator performance or power is lost\n",
    "\n",
    "# generator doesn't holds values in memory, so its efficient than list"
   ]
  },
  {
   "cell_type": "code",
   "execution_count": 29,
   "id": "de7c515a-c1ba-450a-8d2b-a68c74ad7ffe",
   "metadata": {},
   "outputs": [
    {
     "name": "stdout",
     "output_type": "stream",
     "text": [
      "55\n",
      "10\n",
      "10\n"
     ]
    }
   ],
   "source": [
    "# namedtuple\n",
    "\n",
    "from collections import namedtuple # regular tuple but more readable\n",
    "\n",
    "color = (55,155,255) # here numbers represent rbg value, but how will some other person know this when reading the code\n",
    "# to overcome this we can use dictionary but it is mutable and lot to type :p\n",
    "# namedtuple comes in picture which is between tuple and dictionary\n",
    "print(color[0])\n",
    "\n",
    "Dimension = namedtuple('Dimension', ['length', 'breadth', 'height'])\n",
    "\n",
    "dim = Dimension(10,20,30)\n",
    "print(dim[0])\n",
    "print(dim.length) # we have now names associated with tuple values. and we can get the values by there names and position both"
   ]
  },
  {
   "cell_type": "code",
   "execution_count": null,
   "id": "1e685f8e-ffd8-4462-86a3-f00812cf366c",
   "metadata": {},
   "outputs": [],
   "source": []
  }
 ],
 "metadata": {
  "kernelspec": {
   "display_name": "Python 3 (ipykernel)",
   "language": "python",
   "name": "python3"
  },
  "language_info": {
   "codemirror_mode": {
    "name": "ipython",
    "version": 3
   },
   "file_extension": ".py",
   "mimetype": "text/x-python",
   "name": "python",
   "nbconvert_exporter": "python",
   "pygments_lexer": "ipython3",
   "version": "3.9.5"
  }
 },
 "nbformat": 4,
 "nbformat_minor": 5
}
