{
 "cells": [
  {
   "cell_type": "markdown",
   "id": "273b74cc-0d50-4ac4-991a-be1f13895bd4",
   "metadata": {},
   "source": [
    "# Functions"
   ]
  },
  {
   "cell_type": "code",
   "execution_count": 1,
   "id": "4c3dae86-7558-451b-bb50-1f6481d31e74",
   "metadata": {},
   "outputs": [
    {
     "name": "stdout",
     "output_type": "stream",
     "text": [
      "Hello function!\n"
     ]
    }
   ],
   "source": [
    "# functions are used to perform specific operation and avoid repititive task(DRY - don't repeat yourself)\n",
    "\n",
    "def hello_func(): # functions are identified by parentheses\n",
    "    pass ## if there is no body in function we must specify pass\n",
    "\n",
    "# calling a function\n",
    "hello_func()\n",
    "\n",
    "def hello_func():\n",
    "    print('Hello function!')\n",
    "\n",
    "hello_func()"
   ]
  },
  {
   "cell_type": "code",
   "execution_count": 2,
   "id": "12a95612-44f9-4906-97e9-ac1952ba6279",
   "metadata": {},
   "outputs": [
    {
     "name": "stdout",
     "output_type": "stream",
     "text": [
      "Hello function!\n"
     ]
    }
   ],
   "source": [
    "# returning value from the function\n",
    "def hello_func():\n",
    "    return 'Hello function!' # instead of printing we are returning value \n",
    "\n",
    "print(hello_func())\n"
   ]
  },
  {
   "cell_type": "code",
   "execution_count": 4,
   "id": "4ce99ee2-fd84-4eaf-9e0a-51853763878e",
   "metadata": {},
   "outputs": [
    {
     "name": "stdout",
     "output_type": "stream",
     "text": [
      "Hello, You\n",
      "Hello, Ankit\n"
     ]
    }
   ],
   "source": [
    "# function with parameters\n",
    "\n",
    "def hello_func(greeting,name='You'):  # we can provide default value for a parameter if the value is not passed as parameter\n",
    "    return f'{greeting}, {name}'\n",
    "\n",
    "print(hello_func('Hello'))\n",
    "print(hello_func('Hello','Ankit'))"
   ]
  },
  {
   "cell_type": "code",
   "execution_count": 8,
   "id": "fba0de26-6102-4e37-a4ea-60e0d6d02b1b",
   "metadata": {},
   "outputs": [
    {
     "name": "stdout",
     "output_type": "stream",
     "text": [
      "('Math', 'Art')\n",
      "{'name': 'John', 'age': 22}\n",
      "(['Math', 'Art'], {'name': 'John', 'age': 22})\n",
      "{}\n",
      "('Math', 'Art')\n",
      "{'name': 'John', 'age': 22}\n"
     ]
    }
   ],
   "source": [
    "def student_info(*args,**kwargs): # * marks the positional arguments and ** marks the keyword arguments, args and kwargs are just the standard variable name, we can provide any variable name\n",
    "    print(args)\n",
    "    print(kwargs)\n",
    "\n",
    "student_info('Math','Art', name='John',age=22)\n",
    "\n",
    "## args is tuple and kwargs is the dictionary\n",
    "\n",
    "courses = ['Math','Art']\n",
    "info = {'name': 'John', 'age': 22}\n",
    "\n",
    "student_info(courses,info) ## here both courses and info are passed as positional arguments\n",
    "student_info(*courses,**info) ## here we specifically tell to unpack 1st argument as args and 2nd argument as dictionary"
   ]
  },
  {
   "cell_type": "code",
   "execution_count": 12,
   "id": "93fe43e4-3c00-4564-be67-2e7167497b6c",
   "metadata": {},
   "outputs": [
    {
     "data": {
      "text/plain": [
       "29"
      ]
     },
     "execution_count": 12,
     "metadata": {},
     "output_type": "execute_result"
    }
   ],
   "source": [
    "month_days = [0,31,28,31,30,31,30,31,31,30,31,30,31]\n",
    "\n",
    "def is_leap(year):\n",
    "    \"\"\"Return true if leap year else False\"\"\" ## this is called doc string\n",
    "    \n",
    "    return year%4==0 and (year%100 != 0 or year %400 == 0)\n",
    "\n",
    "def days_in_month(year,month):\n",
    "    \"\"\" Return number of days in that month of the year\"\"\"\n",
    "    \n",
    "    if not 1 <= month <= 12:\n",
    "        return \"Invalid Month\"\n",
    "    if month == 2 and is_leap(year):\n",
    "        return 29\n",
    "    return month_days[month]\n",
    "\n",
    "days_in_month(1600,2)"
   ]
  },
  {
   "cell_type": "code",
   "execution_count": null,
   "id": "54b61611-3479-42fa-9c6b-80278f1e0efd",
   "metadata": {},
   "outputs": [],
   "source": []
  }
 ],
 "metadata": {
  "kernelspec": {
   "display_name": "Python 3 (ipykernel)",
   "language": "python",
   "name": "python3"
  },
  "language_info": {
   "codemirror_mode": {
    "name": "ipython",
    "version": 3
   },
   "file_extension": ".py",
   "mimetype": "text/x-python",
   "name": "python",
   "nbconvert_exporter": "python",
   "pygments_lexer": "ipython3",
   "version": "3.9.5"
  }
 },
 "nbformat": 4,
 "nbformat_minor": 5
}
