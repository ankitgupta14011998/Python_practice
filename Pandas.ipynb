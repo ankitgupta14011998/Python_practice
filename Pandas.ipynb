{
 "cells": [
  {
   "cell_type": "code",
   "execution_count": 3,
   "id": "9d0a1cc6-4575-49d7-87d5-7ea994e278ad",
   "metadata": {},
   "outputs": [
    {
     "data": {
      "text/plain": [
       "\"\\t1. Df = Pd.read_csv('path/to/file.csv')  --to read CSV files, returns dataframe\\n\\t2. Df = pd.read_excel('file.xlsx','sheet1') -- to read from excel\\n\\t3. Df = \\n\\t4. Df['col1'].max() , df.['col1'].mean() --To find max/mean in a columns\\n\\t5. Df.fillna(0) -- to fill null values with 0\\n\\t6. Df = Pd.DataFrame(dictionary) --To create dataframe from dictionary\\n\\t7. Df.shape() -- get dimensions of df\\n\\t8. Df.head(2) -- print first 2 rows\\n\\t9. Df.tail(2) -- print last 2 rows\\n\\t10. Df[2:5] -- print rows 2 to 4, same as string slicing\\n\\t11. Df.columns - print columns\\n\\t12. Df.col1 or df['col1']-- print column content\\n\\t13. Type(df['col1']) - pandas.Series type\\n\\t14. Df[['col1','col2']] -- print multiple columns as dataframe\\n\\t15. Df.describe() -- print statistics(count,min,max,std,25%,50%,75%,mean on columns\\n\\t16. Df[df.col1>=30] --checks condition, if true return those records\\n\\t17. Df['col2,col3][df.col1>=30] -- checks condition, if true return col2, col3\\n\\t18. Df.index -- gives index of df\\n\\t19. Df.set_index('col1',inplace =True) -- make any col as index\\n\\t20. Df.loc['1/3/2017'] -- gives row for this index\\n    21. Df.reset_index(inplace =True) -- to reset the index\""
      ]
     },
     "execution_count": 3,
     "metadata": {},
     "output_type": "execute_result"
    }
   ],
   "source": [
    "\"\"\"\t1. Df = Pd.read_csv('path/to/file.csv')  --to read CSV files, returns dataframe\n",
    "\t2. Df = pd.read_excel('file.xlsx','sheet1') -- to read from excel\n",
    "\t3. Df = \n",
    "\t4. Df['col1'].max() , df.['col1'].mean() --To find max/mean in a columns\n",
    "\t5. Df.fillna(0) -- to fill null values with 0\n",
    "\t6. Df = Pd.DataFrame(dictionary) --To create dataframe from dictionary\n",
    "\t7. Df.shape() -- get dimensions of df\n",
    "\t8. Df.head(2) -- print first 2 rows\n",
    "\t9. Df.tail(2) -- print last 2 rows\n",
    "\t10. Df[2:5] -- print rows 2 to 4, same as string slicing\n",
    "\t11. Df.columns - print columns\n",
    "\t12. Df.col1 or df['col1']-- print column content\n",
    "\t13. Type(df['col1']) - pandas.Series type\n",
    "\t14. Df[['col1','col2']] -- print multiple columns as dataframe\n",
    "\t15. Df.describe() -- print statistics(count,min,max,std,25%,50%,75%,mean on columns)\n",
    "\t16. Df[df.col1>=30] --checks condition, if true return those records\n",
    "\t17. Df['col2,col3][df.col1>=30] -- checks condition, if true return col2, col3\n",
    "\t18. Df.index -- gives index of df\n",
    "\t19. Df.set_index('col1',inplace =True) -- make any col as index\n",
    "\t20. Df.loc['1/3/2017'] -- gives row for this index\n",
    "    21. Df.reset_index(inplace =True) -- to reset the index\"\"\""
   ]
  },
  {
   "cell_type": "code",
   "execution_count": 6,
   "id": "d351f40e-d902-423c-9591-831148033998",
   "metadata": {},
   "outputs": [
    {
     "name": "stdout",
     "output_type": "stream",
     "text": [
      "     col1    col2\n",
      "0  value1  value2\n",
      "1  value3  value4\n",
      "2  value5  value6\n",
      "               col1    col2    col3\n",
      "0            value1  value2     NaN\n",
      "1  [value3, value7]  value4  value8\n",
      "2            value5  value6     NaN\n"
     ]
    }
   ],
   "source": [
    "import pandas as pd\n",
    "weather_Data = [\n",
    "('value1','value2'),\n",
    "('value3','value4'),\n",
    "('value5','value6')\n",
    "]\n",
    "#22.\n",
    "df = pd.DataFrame(weather_Data, columns = ['col1','col2']) #-- to create dataframe from list of tuple\n",
    "print(df)\n",
    "weather_data = [\n",
    "{ 'col1': 'value1', 'col2': 'value2'},\n",
    "{ 'col1': ['value3','value7'], 'col2': 'value4','col3' : 'value8'},\n",
    "{ 'col1': 'value5', 'col2': 'value6'}]\n",
    "#23.\n",
    "df = pd.DataFrame(weather_data) #-- to create dataframe from list of dict\n",
    "print(df)"
   ]
  },
  {
   "cell_type": "code",
   "execution_count": null,
   "id": "50c7ea92-5193-422d-a55b-e31ad5c119c1",
   "metadata": {},
   "outputs": [],
   "source": [
    "\"\"\"pd.read_csv('file.csv', skipheader=1) -- if we want to skip 1st line from header\n",
    "pd.read_csv('file.csv', header=1) -- use row at index 1 as header\n",
    "pd.read_csv('file.csv', header=None, names['col1','col2','col3']) -- use column names manually\n",
    "pd.read_csv('file.csv', nrows=3) -- to read only 3 rows\n",
    "pd.read_csv('file.csv', na_values = ['not available','n.a.']) -- replace all the values in list with NaN\n",
    "pd.read_csv('file.csv', na_values = {col1 : ['not available','n.a.'],\n",
    "                                    col2 : ['not available','n.a.',-1]\n",
    "                                    col3 : ['not available','n.a.']}) -- if we want to apply NaN differently to each column\n",
    "\"\"\""
   ]
  },
  {
   "cell_type": "code",
   "execution_count": null,
   "id": "480f9970-ed62-4e31-852a-b7fca942ab40",
   "metadata": {},
   "outputs": [],
   "source": [
    "\"\"\"df.to_csv('new.csv') -- to save a dataframe as csv\n",
    "df.to_csv('new.csv',index=False) -- to save a dataframe as csv without index\n",
    "df.to_csv('new.csv', columns=['col1','col2']) -- to save a dataframe as csv with only 2 columns\n",
    "df.to_csv('new.csv', header = false) -- to save a dataframe as csv without header\"\"\""
   ]
  },
  {
   "cell_type": "code",
   "execution_count": null,
   "id": "65f56006-75a7-47f9-a5e4-8ff86d2a1e90",
   "metadata": {},
   "outputs": [],
   "source": [
    "\"\"\"df= pd.read_excel('file.xlsx','sheet1') -- import excel from sheet1\n",
    "def function_to_convert(cell):\n",
    "    if cell == 'not available':\n",
    "        return None\n",
    "    else:\n",
    "        return False\n",
    "pd.read_excel('file.xlsx','sheet1', converter = { 'col1' : function_to_convert,\n",
    "                                                  'col2' : function_to_convet})\n",
    "\n",
    "df.to_excel('new_file.xlsx', sheet_name = 'stocks')\n",
    "\"\"\""
   ]
  },
  {
   "cell_type": "code",
   "execution_count": null,
   "id": "468ca185-6719-4f73-a5c6-79550e2b6c0f",
   "metadata": {},
   "outputs": [],
   "source": [
    "\"\"\"--write 2 dataframes as 2 diff sheets in excel\n",
    "pd.ExcelWriter('file_name.xlsx') as writerfile:\n",
    "    df1.to_excel(writerfile, sheet_name = 'stocks')\n",
    "    df2.to_excel(writerfile, sheet_name = 'weather')\"\"\"\n"
   ]
  },
  {
   "cell_type": "code",
   "execution_count": 97,
   "id": "1d596251-edda-4971-bd23-011476deccf9",
   "metadata": {},
   "outputs": [
    {
     "name": "stdout",
     "output_type": "stream",
     "text": [
      "<class 'pandas.core.frame.DataFrame'>\n",
      "RangeIndex: 128 entries, 0 to 127\n",
      "Data columns (total 10 columns):\n",
      " #   Column    Non-Null Count  Dtype \n",
      "---  ------    --------------  ----- \n",
      " 0   LatD      128 non-null    int64 \n",
      " 1    \"LatM\"   128 non-null    int64 \n",
      " 2    \"LatS\"   128 non-null    int64 \n",
      " 3    \"NS\"     128 non-null    object\n",
      " 4    \"LonD\"   128 non-null    int64 \n",
      " 5    \"LonM\"   128 non-null    int64 \n",
      " 6    \"LonS\"   128 non-null    int64 \n",
      " 7    \"EW\"     128 non-null    object\n",
      " 8    \"City\"   128 non-null    object\n",
      " 9    \"State\"  128 non-null    object\n",
      "dtypes: int64(6), object(4)\n",
      "memory usage: 10.1+ KB\n"
     ]
    },
    {
     "data": {
      "text/plain": [
       "Index(['LatD', 'LatM', 'LatS', 'NS', 'LonD', 'LonM', 'LonS', 'EW', 'City',\n",
       "       'State'],\n",
       "      dtype='object')"
      ]
     },
     "execution_count": 97,
     "metadata": {},
     "output_type": "execute_result"
    }
   ],
   "source": [
    "import pandas as pd\n",
    "df = pd.read_csv(\"https://people.sc.fsu.edu/~jburkardt/data/csv/cities.csv\", on_bad_lines = 'skip', sep=',', encoding = 'utf-8')\n",
    "df.head(5)\n",
    "df.tail(5)\n",
    "df.LatD # <class 'pandas.core.series.Series'>\n",
    "df['LatD']\n",
    "df.shape # gives dimesnsion\n",
    "df.index\n",
    "df.iloc[[0,1],[0,1,2]] # gives elements in row 0 and 1 and col at pos 0,1,2\n",
    "df.loc[41] # elements at 41th row\n",
    "df.columns # gives list of columns\n",
    "df.describe() # gives statistics\n",
    "df.info() # gives details of columns like name size not-null type\n",
    "cols = [i[2:-1] for i in df.columns if i!='LatD']\n",
    "cols.insert(0,'LatD')\n",
    "df.columns=cols\n",
    "df.columns\n",
    "#df['City'] = df['City'].astype('str')\n",
    "#df.set_index(\"City\")"
   ]
  },
  {
   "cell_type": "code",
   "execution_count": 106,
   "id": "a75f017f-df6c-4166-af5c-4503f2db7d83",
   "metadata": {},
   "outputs": [],
   "source": [
    "df.set_index('City', inplace=True)"
   ]
  },
  {
   "cell_type": "code",
   "execution_count": 99,
   "id": "f24c59f6-01cd-41cb-b432-d543ba7e35ee",
   "metadata": {},
   "outputs": [],
   "source": [
    "df['City'] = [i[2:-1] for i in df['City']]"
   ]
  },
  {
   "cell_type": "code",
   "execution_count": 107,
   "id": "3f56353f-034d-461c-8091-09f286da49fb",
   "metadata": {},
   "outputs": [
    {
     "data": {
      "text/plain": [
       "LatD       41\n",
       "LatM        5\n",
       "LatS       59\n",
       "NS        \"N\"\n",
       "LonD       80\n",
       "LonM       39\n",
       "LonS        0\n",
       "EW        \"W\"\n",
       "State      OH\n",
       "Name: Youngstown, dtype: object"
      ]
     },
     "execution_count": 107,
     "metadata": {},
     "output_type": "execute_result"
    }
   ],
   "source": [
    "df.loc['Youngstown']"
   ]
  }
 ],
 "metadata": {
  "kernelspec": {
   "display_name": "Python 3 (ipykernel)",
   "language": "python",
   "name": "python3"
  },
  "language_info": {
   "codemirror_mode": {
    "name": "ipython",
    "version": 3
   },
   "file_extension": ".py",
   "mimetype": "text/x-python",
   "name": "python",
   "nbconvert_exporter": "python",
   "pygments_lexer": "ipython3",
   "version": "3.9.5"
  }
 },
 "nbformat": 4,
 "nbformat_minor": 5
}
