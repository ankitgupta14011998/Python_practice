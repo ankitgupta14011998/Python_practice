{
 "cells": [
  {
   "cell_type": "markdown",
   "id": "48b9c558-5cf0-4955-aad1-527fdcee62ea",
   "metadata": {},
   "source": [
    "# Integers and Floats"
   ]
  },
  {
   "cell_type": "code",
   "execution_count": 1,
   "id": "a3b6d324-e1dc-487e-8662-0c4a885a16ba",
   "metadata": {},
   "outputs": [
    {
     "name": "stdout",
     "output_type": "stream",
     "text": [
      "<class 'int'>\n"
     ]
    }
   ],
   "source": [
    "num = 3 \n",
    "print(type(num)) # to get type of variable"
   ]
  },
  {
   "cell_type": "code",
   "execution_count": 9,
   "id": "b22189e5-3f36-418b-b20c-569fb4ff1b46",
   "metadata": {},
   "outputs": [
    {
     "name": "stdout",
     "output_type": "stream",
     "text": [
      "5\n",
      "1\n",
      "6\n",
      "1.5\n",
      "1\n",
      "1\n",
      "9\n",
      "2\n"
     ]
    }
   ],
   "source": [
    "## operation\n",
    "print(3+2) ## addition\n",
    "print(3-2) ## subtraction\n",
    "print(3*2) ##multiplication\n",
    "print(3/2) ## before python3 it gave ans as 1(int value)\n",
    "print(3//2) ## floor division(does floor and changes to int)\n",
    "print(3%2) ## remainder\n",
    "print(3**2) ## power\n",
    "\n",
    "num = 1 \n",
    "##shorthand operation\n",
    "num*=2 ## equivalent to (num = num*2). we can use all the above operators this way.\n",
    "print(num)"
   ]
  },
  {
   "cell_type": "code",
   "execution_count": 11,
   "id": "054373b2-59a9-43f4-be7f-472a6c838fc5",
   "metadata": {},
   "outputs": [
    {
     "name": "stdout",
     "output_type": "stream",
     "text": [
      "3\n",
      "4\n",
      "3.8\n"
     ]
    }
   ],
   "source": [
    "## numeric functions\n",
    "print(abs(-3)) ## gives absolute value\n",
    "print(round(3.75)) ## round value to nearest integer\n",
    "print(round(3.75,1)) ## 2nd argument tells no. of digits we want to round to."
   ]
  },
  {
   "cell_type": "code",
   "execution_count": 12,
   "id": "ef118f6c-4e6d-44fd-888e-2db9e04f3ce8",
   "metadata": {},
   "outputs": [
    {
     "name": "stdout",
     "output_type": "stream",
     "text": [
      "False\n",
      "True\n",
      "True\n",
      "True\n",
      "False\n",
      "False\n"
     ]
    }
   ],
   "source": [
    "## Comparison operators\n",
    "\n",
    "num_1 = 3\n",
    "num_2 = 2\n",
    "\n",
    "print(num_1 == num_2) ## checks equality, returns boolean\n",
    "print(num_1 != num_2) ## checks not equality, returns boolean\n",
    "print(num_1 > num_2) ## checks greater than\n",
    "print(num_1 >= num_2) ## checks greater than or equal to \n",
    "print(num_1 < num_2) ## checks less than\n",
    "print(num_1 <= num_2) ## checks less than or equal to "
   ]
  },
  {
   "cell_type": "code",
   "execution_count": 14,
   "id": "10342910-f7cf-4b98-b7c5-6b08a1cd0736",
   "metadata": {},
   "outputs": [
    {
     "name": "stdout",
     "output_type": "stream",
     "text": [
      "100200\n",
      "300\n"
     ]
    }
   ],
   "source": [
    "num_1 = '100'\n",
    "num_2 = '200'\n",
    "\n",
    "print(num_1+num_2) ## will treat as strings\n",
    "print(int(num_1)+int(num_2)) ## we can cast it to int"
   ]
  },
  {
   "cell_type": "code",
   "execution_count": null,
   "id": "37bab270-030c-4aa2-8dd1-73b5660f3eb3",
   "metadata": {},
   "outputs": [],
   "source": []
  }
 ],
 "metadata": {
  "kernelspec": {
   "display_name": "Python 3 (ipykernel)",
   "language": "python",
   "name": "python3"
  },
  "language_info": {
   "codemirror_mode": {
    "name": "ipython",
    "version": 3
   },
   "file_extension": ".py",
   "mimetype": "text/x-python",
   "name": "python",
   "nbconvert_exporter": "python",
   "pygments_lexer": "ipython3",
   "version": "3.9.5"
  }
 },
 "nbformat": 4,
 "nbformat_minor": 5
}
