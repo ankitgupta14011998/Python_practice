{
 "cells": [
  {
   "cell_type": "markdown",
   "id": "d145040a-142f-40d8-bdae-b2f62675a57c",
   "metadata": {},
   "source": [
    "# Loops and Iterations"
   ]
  },
  {
   "cell_type": "code",
   "execution_count": 2,
   "id": "a966b1b5-3a2f-4010-b8c1-80462efa55f6",
   "metadata": {},
   "outputs": [
    {
     "name": "stdout",
     "output_type": "stream",
     "text": [
      "1\n",
      "2 Found\n",
      "3 Found\n"
     ]
    }
   ],
   "source": [
    "nums = [1,2,3,4,5]\n",
    "\n",
    "for num in nums:\n",
    "    if num == 3:\n",
    "        print('3 Found')\n",
    "        break # breaks the loop\n",
    "    elif num ==2:\n",
    "        print('2 Found')\n",
    "        continue # continues the loop without going through remaining below codes\n",
    "    print(num)"
   ]
  },
  {
   "cell_type": "code",
   "execution_count": 3,
   "id": "8b7a6dfd-f817-407c-b573-3ef69eafedc1",
   "metadata": {},
   "outputs": [
    {
     "name": "stdout",
     "output_type": "stream",
     "text": [
      "1 a\n",
      "1 b\n",
      "1 c\n",
      "2 a\n",
      "2 b\n",
      "2 c\n",
      "3 a\n",
      "3 b\n",
      "3 c\n",
      "4 a\n",
      "4 b\n",
      "4 c\n",
      "5 a\n",
      "5 b\n",
      "5 c\n"
     ]
    }
   ],
   "source": [
    "# nested loops\n",
    "for num in nums:\n",
    "    for letter in 'abc':\n",
    "        print(num,letter)"
   ]
  },
  {
   "cell_type": "code",
   "execution_count": 5,
   "id": "384eec85-35fa-41ac-bb02-893eab4a43c4",
   "metadata": {},
   "outputs": [
    {
     "name": "stdout",
     "output_type": "stream",
     "text": [
      "1\n",
      "3\n",
      "5\n",
      "7\n",
      "9\n"
     ]
    }
   ],
   "source": [
    "# range , species number of times the loop has to run\n",
    "for i in range(1,11,2): # start,end,step\n",
    "    print(i)"
   ]
  },
  {
   "cell_type": "code",
   "execution_count": 8,
   "id": "da39a02e-2312-41a7-8502-37fc5721bec3",
   "metadata": {},
   "outputs": [
    {
     "name": "stdout",
     "output_type": "stream",
     "text": [
      "0\n",
      "1\n",
      "2\n",
      "3\n",
      "4\n",
      "5\n",
      "6\n",
      "7\n",
      "8\n",
      "9\n",
      "inside loop\n",
      "inside loop\n",
      "inside loop\n",
      "inside loop\n",
      "inside loop\n"
     ]
    }
   ],
   "source": [
    "# while loop \n",
    "\n",
    "x=0\n",
    "while x<10:\n",
    "    print(x)\n",
    "    x+=1\n",
    "\n",
    "## we can use break and continue same as in for loop\n",
    "\n",
    "while True: ## will always be true, we should use break to come out of the loop\n",
    "    print('inside loop')\n",
    "    x+=1\n",
    "    if x==15:\n",
    "        break"
   ]
  },
  {
   "cell_type": "code",
   "execution_count": 2,
   "id": "94c7544c-cb06-4ec5-b543-1a6f7b46e4dd",
   "metadata": {},
   "outputs": [
    {
     "name": "stdout",
     "output_type": "stream",
     "text": [
      "1\n",
      "2\n",
      "3\n",
      "4\n",
      "5\n",
      "Hit the for/else statement!\n",
      "1\n",
      "2\n"
     ]
    }
   ],
   "source": [
    "# else in loops\n",
    "\n",
    "my_list = [1,2,3,4,5]\n",
    "\n",
    "for i in my_list:\n",
    "    print(i)\n",
    "else: # consider it as no break, if no break was hit then run else\n",
    "    print('Hit the for/else statement!')\n",
    "\n",
    "for i in my_list:\n",
    "    if i==3:\n",
    "        break\n",
    "    print(i)\n",
    "else: # else not executed as break was hit\n",
    "    print('Hit the for/else statement!')"
   ]
  },
  {
   "cell_type": "code",
   "execution_count": 3,
   "id": "076a16e1-a1b1-445d-bc4a-69fa1a7cd2b4",
   "metadata": {},
   "outputs": [
    {
     "name": "stdout",
     "output_type": "stream",
     "text": [
      "0\n",
      "-1\n"
     ]
    }
   ],
   "source": [
    "def find_index(to_search, target):\n",
    "    for i, value in enumerate(to_search):\n",
    "        if value == target:\n",
    "            break\n",
    "    else: # if no break hit or item never found\n",
    "        return -1\n",
    "    return i\n",
    "\n",
    "my_list = ['Ankit', 'Anjali', 'Ashish']\n",
    "index_location = find_index(my_list, 'Ankit')\n",
    "print(index_location)\n",
    "index_location = find_index(my_list, 'Aryan')\n",
    "print(index_location)\n"
   ]
  },
  {
   "cell_type": "code",
   "execution_count": null,
   "id": "4fe5edd4-e7c9-40f2-b011-cfb6c88c0d82",
   "metadata": {},
   "outputs": [],
   "source": []
  }
 ],
 "metadata": {
  "kernelspec": {
   "display_name": "Python 3 (ipykernel)",
   "language": "python",
   "name": "python3"
  },
  "language_info": {
   "codemirror_mode": {
    "name": "ipython",
    "version": 3
   },
   "file_extension": ".py",
   "mimetype": "text/x-python",
   "name": "python",
   "nbconvert_exporter": "python",
   "pygments_lexer": "ipython3",
   "version": "3.9.5"
  }
 },
 "nbformat": 4,
 "nbformat_minor": 5
}
