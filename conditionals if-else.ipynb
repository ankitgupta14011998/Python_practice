{
 "cells": [
  {
   "cell_type": "markdown",
   "id": "27253b5f-2716-4084-af4b-9916892be194",
   "metadata": {},
   "source": [
    "# if elif else"
   ]
  },
  {
   "cell_type": "code",
   "execution_count": 15,
   "id": "77e64769-1d0c-4287-be02-cc6eee148826",
   "metadata": {},
   "outputs": [
    {
     "name": "stdout",
     "output_type": "stream",
     "text": [
      "Condition true\n",
      "Object are same 2756939770160 2756939770160\n",
      "Object not same 2756997071552 2756996519360\n"
     ]
    }
   ],
   "source": [
    "if True:\n",
    "    print('Condition true')\n",
    "else:\n",
    "    print('contdition false')\n",
    "\n",
    "# we can use all conditional operators ==,!=,>,<,>=,<=,is(checks if the object is same as in memory,(memory id should match)\n",
    "num1 = 1\n",
    "num2 = 1\n",
    "a=[1,2,3]\n",
    "b=[1,2,3]\n",
    "if num1 is num2:\n",
    "    print('Object are same',id(num1),id(num2))\n",
    "    \n",
    "if a is b:\n",
    "    print('Object are same')\n",
    "else:\n",
    "    print('Object not same',id(a),id(b))\n",
    "\n"
   ]
  },
  {
   "cell_type": "code",
   "execution_count": 8,
   "id": "8fb013a4-9aa5-467d-80b1-6298c84e6682",
   "metadata": {},
   "outputs": [
    {
     "name": "stdout",
     "output_type": "stream",
     "text": [
      "Language is Java\n"
     ]
    }
   ],
   "source": [
    "lang = 'Java'\n",
    "if lang == 'Python':\n",
    "    print('Language is Python')\n",
    "elif lang == 'Java':\n",
    "    print('Language is Java')\n",
    "else:\n",
    "    print('No Match')\n",
    "\n",
    "## switch case not supported by python"
   ]
  },
  {
   "cell_type": "code",
   "execution_count": 11,
   "id": "11ad5168-5cd4-4c32-8fab-4f8907bdb5ec",
   "metadata": {},
   "outputs": [
    {
     "name": "stdout",
     "output_type": "stream",
     "text": [
      "Admin Page\n",
      "Admin Page\n",
      "Welcome\n"
     ]
    }
   ],
   "source": [
    "user = 'Admin'\n",
    "logged_in = True\n",
    "if user =='Admin' and logged_in: ## and checks both conditions should evaluate to true\n",
    "    print('Admin Page')\n",
    "else:\n",
    "    print('Bad Creds')\n",
    "\n",
    "if user =='User' or logged_in: ## and checks either conditions should evaluate to true\n",
    "    print('Admin Page')\n",
    "else:\n",
    "    print('Bad Creds')\n",
    "\n",
    "if not logged_in: ## negates the expression\n",
    "    print('Please login')\n",
    "else:\n",
    "    print('Welcome')"
   ]
  },
  {
   "cell_type": "code",
   "execution_count": 17,
   "id": "77934b85-3516-4575-9280-9e525cb01889",
   "metadata": {},
   "outputs": [
    {
     "name": "stdout",
     "output_type": "stream",
     "text": [
      "Evaluates to false\n",
      "Evaluates to false\n",
      "Evaluates to false\n",
      "Evaluates to true\n",
      "Evaluates to false\n"
     ]
    }
   ],
   "source": [
    "## Python evaluates to False for following\n",
    "\n",
    "condition = False\n",
    "if condition:\n",
    "    print('Evaluates to true')\n",
    "else:\n",
    "    print('Evaluates to false')\n",
    "\n",
    "condition = None # evaluates to false\n",
    "if condition:\n",
    "    print('Evaluates to true')\n",
    "else:\n",
    "    print('Evaluates to false')\n",
    "\n",
    "condition = 0\n",
    "if condition:\n",
    "    print('Evaluates to true')\n",
    "else:\n",
    "    print('Evaluates to false')\n",
    "\n",
    "condition = 1 # any number other than 0 will evaluate to true\n",
    "if condition:\n",
    "    print('Evaluates to true')\n",
    "else:\n",
    "    print('Evaluates to false')\n",
    "\n",
    "condition = [] ## any empty mapping list,tuple,set,dic will evaluate to false\n",
    "if condition:\n",
    "    print('Evaluates to true')\n",
    "else:\n",
    "    print('Evaluates to false')\n",
    "\n",
    "## Everything except above ones evaluates to true"
   ]
  },
  {
   "cell_type": "code",
   "execution_count": null,
   "id": "f09a6256-02c2-4dc3-b6b6-467f9c8e8a0c",
   "metadata": {},
   "outputs": [],
   "source": []
  }
 ],
 "metadata": {
  "kernelspec": {
   "display_name": "Python 3 (ipykernel)",
   "language": "python",
   "name": "python3"
  },
  "language_info": {
   "codemirror_mode": {
    "name": "ipython",
    "version": 3
   },
   "file_extension": ".py",
   "mimetype": "text/x-python",
   "name": "python",
   "nbconvert_exporter": "python",
   "pygments_lexer": "ipython3",
   "version": "3.9.5"
  }
 },
 "nbformat": 4,
 "nbformat_minor": 5
}
