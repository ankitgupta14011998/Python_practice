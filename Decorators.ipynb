{
 "cells": [
  {
   "cell_type": "markdown",
   "id": "a4967222-05fa-48d7-aeac-b3f0930a6e29",
   "metadata": {},
   "source": [
    "# Decorators"
   ]
  },
  {
   "cell_type": "code",
   "execution_count": 1,
   "id": "6d321294-a6de-4126-ac82-7df792b6ca2a",
   "metadata": {},
   "outputs": [
    {
     "name": "stdout",
     "output_type": "stream",
     "text": [
      "<function square at 0x0000027D80E3C4C0>\n",
      "25\n",
      "<function square at 0x0000027D80E3C4C0>\n"
     ]
    }
   ],
   "source": [
    "# First-Class functions\n",
    "\n",
    "def square(x):\n",
    "    return x*x\n",
    "\n",
    "print(square)\n",
    "f = square(5) # adding parantheses means executing the function\n",
    "print(f)\n",
    "f = square # assigning function to a variable, so f is called 1st class function because it takes simple value as argument and returns a value\n",
    "print(f)"
   ]
  },
  {
   "cell_type": "code",
   "execution_count": 4,
   "id": "60d8a36b-6498-4087-8328-68a4a96d64ed",
   "metadata": {},
   "outputs": [
    {
     "name": "stdout",
     "output_type": "stream",
     "text": [
      "[1, 4, 9, 16, 25]\n",
      "[1, 8, 27, 64, 125]\n"
     ]
    }
   ],
   "source": [
    "# if a function takes another function as argument or return another function its called high order functions\n",
    "\n",
    "# taking function as argument\n",
    "def my_map(func, arg_list):\n",
    "    result = []\n",
    "    for i in arg_list:\n",
    "        result.append(func(i))\n",
    "    return result\n",
    "\n",
    "squares = my_map(square, [1,2,3,4,5]) # here map_function is high order function, notice that square doesn't have parentheses\n",
    "cubes = my_map(cube,[1,2,3,4,5])\n",
    "\n",
    "print(squares)\n",
    "print(cubes)\n",
    "def cube(x):\n",
    "    return x*x*x"
   ]
  },
  {
   "cell_type": "code",
   "execution_count": 63,
   "id": "381658ef-0e28-4cbd-82da-7e3c55d185b3",
   "metadata": {},
   "outputs": [
    {
     "name": "stdout",
     "output_type": "stream",
     "text": [
      "Log: Hi!\n"
     ]
    }
   ],
   "source": [
    "# return function as an output\n",
    "\n",
    "def logger(msg):\n",
    "    def log_message():\n",
    "        print('Log:', msg)\n",
    "    return(log_message) # we are returning a function here\n",
    "\n",
    "log_hi = logger('Hi!') # it doesn't print anything although the logger fucntion is executing. This is because we are assigning the function definition with argument to another variable\n",
    "log_hi() # the output is because of this line. notice that log_hi() <-> log_message() and it holds the argument Hi! provided previously."
   ]
  },
  {
   "cell_type": "code",
   "execution_count": 8,
   "id": "7d2fcd37-c846-4983-88f9-5f85bb62f02b",
   "metadata": {},
   "outputs": [
    {
     "name": "stdout",
     "output_type": "stream",
     "text": [
      "<h1>Test Headline1</h1>\n",
      "<h1>Another Headline!</h1>\n",
      "<p>Test Paragraph!</p>\n"
     ]
    }
   ],
   "source": [
    "# example 2 \n",
    "def html_tag(tag):\n",
    "    def wrap_text(msg):\n",
    "        print('<{0}>{1}</{0}>'.format(tag,msg))\n",
    "    return wrap_text\n",
    "\n",
    "print_h1 = html_tag('h1')\n",
    "print_h1('Test Headline1')\n",
    "print_h1('Another Headline!')\n",
    "\n",
    "print_p = html_tag('p')\n",
    "print_p('Test Paragraph!')"
   ]
  },
  {
   "cell_type": "code",
   "execution_count": 11,
   "id": "a7faa8fc-48cf-4c18-b196-37b2b54746c5",
   "metadata": {},
   "outputs": [
    {
     "name": "stdout",
     "output_type": "stream",
     "text": [
      "Hi\n"
     ]
    }
   ],
   "source": [
    "# Closures\n",
    "\n",
    "def outer_func():\n",
    "    message = 'Hi'\n",
    "\n",
    "    def inner_func():\n",
    "        print(message)\n",
    "\n",
    "    return(inner_func())\n",
    "\n",
    "outer_func() # the outer_func executes , assignes value to message and the inner_function executes and print message"
   ]
  },
  {
   "cell_type": "code",
   "execution_count": 18,
   "id": "8be0af72-a526-4be2-8a64-2e4d67f8b534",
   "metadata": {},
   "outputs": [
    {
     "name": "stdout",
     "output_type": "stream",
     "text": [
      "<function outer_func.<locals>.inner_func at 0x0000027D80E3CAF0>\n",
      "inner_func\n",
      "Hi\n",
      "Hi\n",
      "Hi\n"
     ]
    }
   ],
   "source": [
    "def outer_func():\n",
    "    message = 'Hi'\n",
    "\n",
    "    def inner_func():\n",
    "        print(message)\n",
    "\n",
    "    return(inner_func) # notice we have removed the parantheses, now inner_func will not be executed but its definition will be returned.\n",
    "\n",
    "my_func = outer_func() # this executes the outer_func and assignes the value to message\n",
    "print(my_func)\n",
    "print(my_func.__name__)\n",
    "\n",
    "my_func() # notice that my_func has access to message variable in its local scope, so inner_func() is called closure\n",
    "my_func()\n",
    "my_func()"
   ]
  },
  {
   "cell_type": "code",
   "execution_count": 19,
   "id": "19099a50-712a-4609-823f-03b15b83abb7",
   "metadata": {},
   "outputs": [
    {
     "name": "stdout",
     "output_type": "stream",
     "text": [
      "Hi\n",
      "Hello\n",
      "Hi\n",
      "Hello\n"
     ]
    }
   ],
   "source": [
    "def outer_func(msg):\n",
    "    message = msg\n",
    "\n",
    "    def inner_func():\n",
    "        print(message)\n",
    "\n",
    "    return(inner_func)\n",
    "\n",
    "hi_func = outer_func('Hi')\n",
    "hello_func = outer_func('Hello')\n",
    "\n",
    "hi_func()\n",
    "hello_func()\n",
    "hi_func()\n",
    "hello_func()\n"
   ]
  },
  {
   "cell_type": "code",
   "execution_count": 33,
   "id": "2494b856-1cc3-4983-b2a5-b0a99279206f",
   "metadata": {},
   "outputs": [
    {
     "name": "stdout",
     "output_type": "stream",
     "text": [
      "wrapper_function\n",
      "wrapper executed this before display\n",
      "display function ran\n"
     ]
    }
   ],
   "source": [
    "# Decorators\n",
    "\n",
    "#it is a function that takes function as an argument and adds some kind of functionality and returns another function without altering the source code\n",
    "\n",
    "def decorator_function(original_function):\n",
    "    def wrapper_function():\n",
    "        print('wrapper executed this before {}'.format(original_function.__name__))\n",
    "        return original_function()\n",
    "    return wrapper_function\n",
    "\n",
    "def display():\n",
    "    print('display function ran')\n",
    "\n",
    "decorated_display = decorator_function(display)\n",
    "print(decorated_display.__name__)\n",
    "decorated_display()\n"
   ]
  },
  {
   "cell_type": "code",
   "execution_count": 34,
   "id": "087d4ca0-3399-438b-8956-9e1687ebeb8c",
   "metadata": {},
   "outputs": [
    {
     "name": "stdout",
     "output_type": "stream",
     "text": [
      "wrapper executed this before display2\n",
      "diplay2 ran\n"
     ]
    }
   ],
   "source": [
    "@decorator_function\n",
    "def display2():\n",
    "    print('diplay2 ran')\n",
    "\n",
    "display2()\n",
    "\n",
    "#The above code basically mean same as below\n",
    "#display2 = decorator_function(display2)\n",
    "# display2 now becomes the wrapper_function but in memory it still have original_function as the original display2().\n"
   ]
  },
  {
   "cell_type": "code",
   "execution_count": 35,
   "id": "b23c12e0-4f98-4b0e-b0bb-6e04847b52ea",
   "metadata": {},
   "outputs": [
    {
     "name": "stdout",
     "output_type": "stream",
     "text": [
      "wrapper executed this before display_info\n",
      "display_info ran with arguments (John, 25)\n",
      "wrapper executed this before display\n",
      "display function ran\n"
     ]
    }
   ],
   "source": [
    "# example 2\n",
    "\n",
    "def decorator_function(original_function):\n",
    "    def wrapper_function(*args,**kwargs): # necessary to add *args and **kwargs because our decorated func can have some arguments and after the wrapper func is assigned to this function it may expect wrapper func also to take those arguments when calling the decorated func.\n",
    "        print('wrapper executed this before {}'.format(original_function.__name__))\n",
    "        return original_function(*args,**kwargs) # necessary to add * args and ** kwargs because original function may take some arguments\n",
    "    return wrapper_function\n",
    "\n",
    "@decorator_function\n",
    "def display():\n",
    "    print('display function ran')\n",
    "\n",
    "@decorator_function\n",
    "def display_info(name,age):\n",
    "    print('display_info ran with arguments ({}, {})'.format(name,age))\n",
    "\n",
    "display_info('John', 25) # here we are actually calling the wrapper function and not the original function\n",
    "\n",
    "display()"
   ]
  },
  {
   "cell_type": "code",
   "execution_count": 36,
   "id": "0fc82efc-4ba0-462a-82e2-5d3af70363cd",
   "metadata": {},
   "outputs": [
    {
     "name": "stdout",
     "output_type": "stream",
     "text": [
      "call method executed this before display_info\n",
      "display_info ran with arguments (John, 25)\n",
      "call method executed this before display\n",
      "display function ran\n"
     ]
    }
   ],
   "source": [
    "# decorator example in class\n",
    "\n",
    "class decorator_class(object):\n",
    "    def __init__(self,original_function): # same as decorator_function\n",
    "        self.original_function = original_function # we associated the original_function with our class instance\n",
    "\n",
    "    def __call__(self,*args,**kwargs): # same as wrapper function. __call__ helps to create object that can be called as regular functions\n",
    "        print('call method executed this before {}'.format(self.original_function.__name__))\n",
    "        return self.original_function(*args,**kwargs)\n",
    "\n",
    "@decorator_class\n",
    "def display():\n",
    "    print('display function ran')\n",
    "\n",
    "@decorator_class\n",
    "def display_info(name,age):\n",
    "    print('display_info ran with arguments ({}, {})'.format(name,age))\n",
    "\n",
    "display_info('John', 25) # here we are actually calling the wrapper function and not the original function\n",
    "\n",
    "display()"
   ]
  },
  {
   "cell_type": "code",
   "execution_count": 57,
   "id": "fa9e8940-eaf1-4da9-a585-b2577947a739",
   "metadata": {},
   "outputs": [
    {
     "name": "stdout",
     "output_type": "stream",
     "text": [
      "display_info ran with arguments (John, 25)\n",
      "display_info ran with arguments (Ankit, 25)\n",
      "display_info ran with arguments (cathey, 39)\n",
      "display_info ran with arguments (Ankit, 25)\n"
     ]
    }
   ],
   "source": [
    "# practical example\n",
    "\n",
    "from functools import wraps ## importing wraps decorator to prevent our my_logger and my_timer decorator reveal wrapper functions, try removing wraps and see what happens\n",
    "def my_logger(original_func):\n",
    "    import logging\n",
    "    logging.basicConfig(filename='{}.log'.format(original_func.__name__), level=logging.INFO)\n",
    "    @wraps(original_func)\n",
    "    def wrapper(*args,**kwargs):\n",
    "        logging.info(\n",
    "            'Ran with args: {}, and kwargs: {}'.format(args,kwargs))\n",
    "        return original_func(*args,**kwargs)\n",
    "\n",
    "    return wrapper\n",
    "\n",
    "def my_timer(original_func):\n",
    "    import time\n",
    "    @wraps(original_func)\n",
    "    def wrapper(*args,**kwargs):\n",
    "        t1 = time.time()\n",
    "        result = original_func(*args,**kwargs)\n",
    "        t2 = time.time() - t1\n",
    "        print('{} ran in: {} sec'.format(original_func.__name__, t2))\n",
    "        return result\n",
    "    return wrapper\n",
    "\n",
    "@my_logger\n",
    "def display_info(name,age,**kwargs):\n",
    "    print('display_info ran with arguments ({}, {})'.format(name,age))\n",
    "\n",
    "display_info('John', 25)\n",
    "display_info('Ankit', 25)\n",
    "display_info('cathey', 39)\n",
    "display_info('Ankit', 25, phone='123-123', is_happy='no')"
   ]
  },
  {
   "cell_type": "code",
   "execution_count": 50,
   "id": "7a433d3a-0058-4543-93a7-9f46a758e047",
   "metadata": {},
   "outputs": [
    {
     "name": "stdout",
     "output_type": "stream",
     "text": [
      "display_info ran with arguments (Ankit, 25)\n",
      "display_info ran in: 1.000159740447998 sec\n"
     ]
    }
   ],
   "source": [
    "import time\n",
    "\n",
    "@my_timer\n",
    "def display_info(name,age,**kwargs):\n",
    "    time.sleep(1)\n",
    "    print('display_info ran with arguments ({}, {})'.format(name,age))\n",
    "\n",
    "display_info('Ankit',25)"
   ]
  },
  {
   "cell_type": "code",
   "execution_count": 58,
   "id": "2132ce9d-a6d7-4af8-ae84-a0238db74d13",
   "metadata": {},
   "outputs": [
    {
     "name": "stdout",
     "output_type": "stream",
     "text": [
      "display_info ran with arguments (Ankit, 25)\n",
      "display_info ran in: 1.0090055465698242 sec\n"
     ]
    }
   ],
   "source": [
    "@my_timer\n",
    "@my_logger\n",
    "def display_info(name,age,**kwargs):\n",
    "    time.sleep(1)\n",
    "    print('display_info ran with arguments ({}, {})'.format(name,age))\n",
    "\n",
    "display_info('Ankit',25)\n",
    "\n",
    "## the above code is same as below code\n",
    "## display_info = my_timer(my_logger(display_info))\n",
    "\n",
    "# since in output it can be seen it showed the wrapper func which is not good, this can be prevented using wraps decorator from functools module and use this wraps decorator before every wrapper class"
   ]
  },
  {
   "cell_type": "code",
   "execution_count": 59,
   "id": "f3e05843-0cad-46e7-b593-01602684436d",
   "metadata": {},
   "outputs": [
    {
     "name": "stdout",
     "output_type": "stream",
     "text": [
      "display_info ran with arguments (Ankit, 25)\n",
      "display_info ran in: 1.0107989311218262 sec\n"
     ]
    }
   ],
   "source": [
    "@my_logger\n",
    "@my_timer\n",
    "def display_info(name,age,**kwargs):\n",
    "    time.sleep(1)\n",
    "    print('display_info ran with arguments ({}, {})'.format(name,age))\n",
    "\n",
    "display_info('Ankit',25)\n",
    "\n",
    "## the above code is same as below code\n",
    "## display_info = my_logger(my_timer(display_info))"
   ]
  },
  {
   "cell_type": "code",
   "execution_count": 62,
   "id": "2a6ed9fa-cb3a-42cc-a44b-5d5c2d14e016",
   "metadata": {},
   "outputs": [
    {
     "name": "stdout",
     "output_type": "stream",
     "text": [
      "LOG: Executed before display_info\n",
      "display_info ran with arguments (John, 25)\n",
      "LOG: Executed after display_info \n",
      "\n",
      "LOG: Executed before display_info\n",
      "display_info ran with arguments (Travis, 30)\n",
      "LOG: Executed after display_info \n",
      "\n"
     ]
    }
   ],
   "source": [
    "# decorators with arguments ,as in flask @app.route('/')\n",
    "def prefix_decorator(prefix):\n",
    "    def decorator_function(original_func):    \n",
    "        def wrapper_function(*args,**kwargs):\n",
    "            print(prefix, 'Executed before', original_func.__name__)\n",
    "            result = original_func(*args,**kwargs)\n",
    "            print(prefix, 'Executed after', original_func.__name__, '\\n')\n",
    "            return result\n",
    "        return wrapper_function\n",
    "    return decorator_function\n",
    "\n",
    "@prefix_decorator('LOG:')\n",
    "def display_info(name,age,**kwargs):    \n",
    "    print('display_info ran with arguments ({}, {})'.format(name,age))\n",
    "\n",
    "display_info('John', 25)\n",
    "display_info('Travis', 30)\n",
    "\n",
    "# we have just added another nested layer of function with argument"
   ]
  },
  {
   "cell_type": "markdown",
   "id": "93df3c26-ff13-42de-91a4-9a8a35d75f9a",
   "metadata": {},
   "source": [
    "## Go through the examples slowly and properly, it can be overwhelming in the beginning but its easy and understandable\n",
    "\n",
    "### just understand decorators are functions that takes function as argument, provides its own functionality and then returns a function."
   ]
  },
  {
   "cell_type": "code",
   "execution_count": null,
   "id": "75542593-25cb-4b51-ba9c-9dfc575829ac",
   "metadata": {},
   "outputs": [],
   "source": []
  }
 ],
 "metadata": {
  "kernelspec": {
   "display_name": "Python 3 (ipykernel)",
   "language": "python",
   "name": "python3"
  },
  "language_info": {
   "codemirror_mode": {
    "name": "ipython",
    "version": 3
   },
   "file_extension": ".py",
   "mimetype": "text/x-python",
   "name": "python",
   "nbconvert_exporter": "python",
   "pygments_lexer": "ipython3",
   "version": "3.9.5"
  }
 },
 "nbformat": 4,
 "nbformat_minor": 5
}
