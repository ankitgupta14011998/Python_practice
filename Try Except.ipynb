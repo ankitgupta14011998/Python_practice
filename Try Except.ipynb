{
 "cells": [
  {
   "cell_type": "code",
   "execution_count": 1,
   "id": "901850fa-123d-4bf4-abc2-26afacd50db1",
   "metadata": {},
   "outputs": [
    {
     "data": {
      "text/plain": [
       "2"
      ]
     },
     "execution_count": 1,
     "metadata": {},
     "output_type": "execute_result"
    }
   ],
   "source": [
    "def check():\n",
    "    try:\n",
    "        raise Exception # we can raise expecption manually\n",
    "    except:\n",
    "        return 1\n",
    "    finally:\n",
    "        return 2\n",
    "\n",
    "check()\n",
    "# finally will always execute"
   ]
  },
  {
   "cell_type": "code",
   "execution_count": 2,
   "id": "549f8860-e9b5-4545-8e21-fb0fcce6a699",
   "metadata": {},
   "outputs": [],
   "source": [
    "def trycatch():\n",
    "    try:\n",
    "        f = open('test.txt')\n",
    "        var = bad_var\n",
    "        sum = 1/0\n",
    "        \n",
    "    except FileNotFoundError as e:# keep specific exception first and general one last\n",
    "        print(e)\n",
    "    except NameError as e:\n",
    "        print(e)\n",
    "    except Exception as e: # this is most general expression and should always be kept at last\n",
    "        print(e)"
   ]
  },
  {
   "cell_type": "code",
   "execution_count": 3,
   "id": "3718a834-1e92-4678-8596-1d8e821ebc0b",
   "metadata": {},
   "outputs": [
    {
     "name": "stdout",
     "output_type": "stream",
     "text": [
      "[Errno 2] No such file or directory: 'test.txt'\n",
      "name 'bad_var' is not defined\n",
      "division by zero\n"
     ]
    }
   ],
   "source": [
    "trycatch() # this will give file not found exception\n",
    "import os\n",
    "with open('test.txt','w') as f:\n",
    "    pass\n",
    "\n",
    "trycatch() # this will give variable bad_var not found error\n",
    "bad_var = 0\n",
    "\n",
    "trycatch() # this will give division_by_zero error ."
   ]
  },
  {
   "cell_type": "code",
   "execution_count": 5,
   "id": "1e31ba1a-568e-4e77-af2e-08d620261dcd",
   "metadata": {},
   "outputs": [
    {
     "name": "stdout",
     "output_type": "stream",
     "text": [
      "Hello world!\n",
      "finally executing\n"
     ]
    }
   ],
   "source": [
    "# else block runs when there is not an exception\n",
    "# finally is used to do some closing actions like closing the db or cleaning the log.\n",
    "try:\n",
    "    f = open('test.txt')\n",
    "except Exception:\n",
    "    print('Exception occured')\n",
    "else:\n",
    "    print(f.read())\n",
    "    f.close()\n",
    "finally:\n",
    "        print('finally executing')"
   ]
  },
  {
   "cell_type": "code",
   "execution_count": null,
   "id": "f9eee0fa-cead-4d34-b82d-31bb3fa549f0",
   "metadata": {},
   "outputs": [],
   "source": []
  },
  {
   "cell_type": "code",
   "execution_count": null,
   "id": "84abd3f0-c70e-41bf-bc8d-d6b233ce319f",
   "metadata": {},
   "outputs": [],
   "source": []
  }
 ],
 "metadata": {
  "kernelspec": {
   "display_name": "Python 3 (ipykernel)",
   "language": "python",
   "name": "python3"
  },
  "language_info": {
   "codemirror_mode": {
    "name": "ipython",
    "version": 3
   },
   "file_extension": ".py",
   "mimetype": "text/x-python",
   "name": "python",
   "nbconvert_exporter": "python",
   "pygments_lexer": "ipython3",
   "version": "3.9.5"
  }
 },
 "nbformat": 4,
 "nbformat_minor": 5
}
