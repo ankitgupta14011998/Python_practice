{
 "cells": [
  {
   "cell_type": "markdown",
   "id": "55d53596-5cfa-461f-b68c-360c91efd4a6",
   "metadata": {},
   "source": [
    "# Dictionary"
   ]
  },
  {
   "cell_type": "code",
   "execution_count": 5,
   "id": "60ac570e-f32b-4469-88fa-19c41c7e3b53",
   "metadata": {},
   "outputs": [
    {
     "name": "stdout",
     "output_type": "stream",
     "text": [
      "{'name': 'Ankit', 'age': 25, 'courses': ['Math', 'CompSci']}\n",
      "Ankit\n",
      "['Math', 'CompSci']\n",
      "None\n",
      "Ankit\n",
      "Key Not Found\n"
     ]
    }
   ],
   "source": [
    "# to work with key value pairs, similar to hashmap or treemap in java\n",
    "\n",
    "student = {'name': 'Ankit','age': 25,'courses': ['Math','CompSci']} ## key value pairs, data types of the key value can be any immutable data types\n",
    "print(student)\n",
    "\n",
    "print(student['name'])\n",
    "print(student['courses'])\n",
    "\n",
    "#print(student['phone']) ## this gives error when the key is not present(uncomment and run this)\n",
    "print(student.get('phone')) ## to avoid error we can access using .get, returns None if key not present\n",
    "print(student.get('name')) \n",
    "print(student.get('phone','Key Not Found')) ## we can give the default value in .get if the key is not present"
   ]
  },
  {
   "cell_type": "code",
   "execution_count": 15,
   "id": "3c0304cc-1729-4f0d-86e7-f553003e361d",
   "metadata": {},
   "outputs": [
    {
     "name": "stdout",
     "output_type": "stream",
     "text": [
      "{'name': 'Anku', 'age': 25, 'courses': ['Math', 'CompSci'], 'phone': '123-123'}\n",
      "{'name': 'Banku', 'age': 26, 'courses': ['Math', 'CompSci'], 'phone': '123-123', 'address': 'Ballia'}\n",
      "{'name': 'Banku', 'courses': ['Math', 'CompSci'], 'phone': '123-123', 'address': 'Ballia'}\n",
      "{'name': 'Banku', 'courses': ['Math', 'CompSci'], 'phone': '123-123'}\n",
      "Ballia\n",
      "3\n",
      "dict_keys(['name', 'courses', 'phone'])\n",
      "dict_values(['Banku', ['Math', 'CompSci'], '123-123'])\n",
      "dict_items([('name', 'Banku'), ('courses', ['Math', 'CompSci']), ('phone', '123-123')])\n"
     ]
    }
   ],
   "source": [
    "student = {'name': 'Ankit','age': 25,'courses': ['Math','CompSci']}\n",
    "# to add items in dictionary\n",
    "\n",
    "student['phone'] = '123-123' # adds new element phone\n",
    "student['name'] = 'Anku' # we can update the value also in dict\n",
    "print(student)\n",
    "\n",
    "## if we have to update multiple items in dictionary\n",
    "student.update({'name': 'Banku', 'age':26, 'address': 'Ballia'})\n",
    "print(student)\n",
    "\n",
    "## to delete a specific key\n",
    "del student['age']\n",
    "print(student)\n",
    "\n",
    "## items can deleted using pop method also\n",
    "age = student.pop('address')\n",
    "print(student)\n",
    "print(age)\n",
    "\n",
    "print(len(student)) ## gives number of keys in dict\n",
    "print(student.keys()) ## print list of keys in dict\n",
    "print(student.values()) ## print list of values in dict\n",
    "print(student.items()) ## print list of tuples of keys and values in dict"
   ]
  },
  {
   "cell_type": "code",
   "execution_count": 16,
   "id": "90ecf5d8-42c4-4f59-b692-18cf6c33bc9a",
   "metadata": {},
   "outputs": [
    {
     "name": "stdout",
     "output_type": "stream",
     "text": [
      "name Banku\n",
      "courses ['Math', 'CompSci']\n",
      "phone 123-123\n"
     ]
    }
   ],
   "source": [
    "## looping in dictionary\n",
    "\n",
    "for key,value in student.items():\n",
    "    print(key,value)"
   ]
  },
  {
   "cell_type": "code",
   "execution_count": 24,
   "id": "cdcd25ab-3d10-451f-9e60-27fd62b2d3f8",
   "metadata": {},
   "outputs": [
    {
     "name": "stdout",
     "output_type": "stream",
     "text": [
      "('Bruce', 'Batman', 'Bruce')\n",
      "('Clark', 'Superman', 'Clark')\n",
      "('Peter', 'Spiderman', 'Peter')\n",
      "('Logan', 'Wolverine', 'Logan')\n",
      "('Wade', 'Deadpool', 'Wade')\n",
      "{'Bruce': 'Batman', 'Clark': 'Superman', 'Peter': 'Spiderman', 'Logan': 'Wolverine', 'Wade': 'Deadpool'}\n",
      "{'Bruce': 'Batman', 'Clark': 'Superman', 'Peter': 'Spiderman', 'Logan': 'Wolverine', 'Wade': 'Deadpool'}\n",
      "{'Bruce': 'Batman', 'Clark': 'Superman', 'Logan': 'Wolverine', 'Wade': 'Deadpool'}\n"
     ]
    }
   ],
   "source": [
    "# Dictionary comprehension\n",
    "\n",
    "names = ['Bruce','Clark','Peter','Logan','Wade']\n",
    "heros = ['Batman','Superman','Spiderman','Wolverine','Deadpool']\n",
    "\n",
    "for item in zip(names,heros,names): # zip takes multiple list arguments and returns the tuple of values at corresponding indices in those lists\n",
    "    print(item)\n",
    "\n",
    "# dict comprehension example 1\n",
    "my_dict = {}\n",
    "for name,hero in zip(names,heros):\n",
    "    my_dict[name]=hero\n",
    "print(my_dict)\n",
    "\n",
    "my_dict = {name : hero for name,hero in zip(names,heros)}\n",
    "print(my_dict)\n",
    "\n",
    "# dict comprehension example 2\n",
    "my_dict = {name : hero for name,hero in zip(names,heros) if name!='Peter'}\n",
    "print(my_dict)"
   ]
  },
  {
   "cell_type": "code",
   "execution_count": null,
   "id": "e812e447-6038-47be-bc46-1c3ad99bc2c8",
   "metadata": {},
   "outputs": [],
   "source": []
  }
 ],
 "metadata": {
  "kernelspec": {
   "display_name": "Python 3 (ipykernel)",
   "language": "python",
   "name": "python3"
  },
  "language_info": {
   "codemirror_mode": {
    "name": "ipython",
    "version": 3
   },
   "file_extension": ".py",
   "mimetype": "text/x-python",
   "name": "python",
   "nbconvert_exporter": "python",
   "pygments_lexer": "ipython3",
   "version": "3.9.5"
  }
 },
 "nbformat": 4,
 "nbformat_minor": 5
}
